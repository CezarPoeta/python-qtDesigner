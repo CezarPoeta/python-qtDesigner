{
 "cells": [
  {
   "cell_type": "code",
   "execution_count": 1,
   "source": [
    "from Classes import *\r\n",
    "fm = clsFormulasMath.Bascara_1('R$90')\r\n",
    "\r\n",
    "print(fm.calc_bas())\r\n"
   ],
   "outputs": [
    {
     "output_type": "stream",
     "name": "stdout",
     "text": [
      "Entrou na Bascara_1\n",
      "180.0\n"
     ]
    }
   ],
   "metadata": {}
  }
 ],
 "metadata": {
  "orig_nbformat": 4,
  "language_info": {
   "name": "python",
   "version": "3.8.2",
   "mimetype": "text/x-python",
   "codemirror_mode": {
    "name": "ipython",
    "version": 3
   },
   "pygments_lexer": "ipython3",
   "nbconvert_exporter": "python",
   "file_extension": ".py"
  },
  "kernelspec": {
   "name": "python3",
   "display_name": "Python 3.8.2 32-bit"
  },
  "interpreter": {
   "hash": "93cb672a0ebc991e1d2c2c8197edef3c43024168dcd0c2e0c9ca8e77142833c8"
  }
 },
 "nbformat": 4,
 "nbformat_minor": 2
}