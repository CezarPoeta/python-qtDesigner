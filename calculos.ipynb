{
 "cells": [
  {
   "cell_type": "code",
   "execution_count": 59,
   "source": [],
   "outputs": [
    {
     "output_type": "stream",
     "name": "stdout",
     "text": [
      "Entrou na Bascara_1\n",
      "Entrei na Classe e o valor passado foi o 50\n"
     ]
    }
   ],
   "metadata": {}
  },
  {
   "cell_type": "code",
   "execution_count": 62,
   "source": [
    "from Classes import clsFormulasMath\r\n",
    "bo1 = Bascara_1()\r\n",
    "bo2 = Bascara_2(20)\r\n",
    "\r\n",
    "num1 = bo1.calc_bas(70)\r\n",
    "num2 = bo2.calc_bas()\r\n"
   ],
   "outputs": [
    {
     "output_type": "stream",
     "name": "stdout",
     "text": [
      "Entrou na Bascara_1\n",
      "Entrei na Classe e o valor passado foi o 20\n"
     ]
    }
   ],
   "metadata": {}
  },
  {
   "cell_type": "code",
   "execution_count": 63,
   "source": [
    "from Classes import clsFormulasMath as fm\r\n",
    "\r\n",
    "b02 = fm.Bascara_2(70)"
   ],
   "outputs": [
    {
     "output_type": "stream",
     "name": "stdout",
     "text": [
      "Entrei na Classe e o valor passado foi o 70\n"
     ]
    }
   ],
   "metadata": {}
  },
  {
   "cell_type": "code",
   "execution_count": null,
   "source": [],
   "outputs": [],
   "metadata": {}
  }
 ],
 "metadata": {
  "orig_nbformat": 4,
  "language_info": {
   "name": "python",
   "version": "3.8.2",
   "mimetype": "text/x-python",
   "codemirror_mode": {
    "name": "ipython",
    "version": 3
   },
   "pygments_lexer": "ipython3",
   "nbconvert_exporter": "python",
   "file_extension": ".py"
  },
  "kernelspec": {
   "name": "python3",
   "display_name": "Python 3.8.2 32-bit"
  },
  "interpreter": {
   "hash": "93cb672a0ebc991e1d2c2c8197edef3c43024168dcd0c2e0c9ca8e77142833c8"
  }
 },
 "nbformat": 4,
 "nbformat_minor": 2
}