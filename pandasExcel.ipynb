{
 "cells": [
  {
   "cell_type": "code",
   "execution_count": 1,
   "source": [
    "import pandas as pd\r\n",
    "df = pd.read_excel('MeuExcel.xlsx')"
   ],
   "outputs": [],
   "metadata": {}
  },
  {
   "cell_type": "code",
   "execution_count": 2,
   "source": [
    "print(df.head())"
   ],
   "outputs": [
    {
     "output_type": "stream",
     "name": "stdout",
     "text": [
      "   Periodo Item    qt1\n",
      "0        0     A  5144\n",
      "1        0     B  4750\n",
      "2        0     D  4000\n",
      "3        0     E  2292\n",
      "4        0     F  2027\n"
     ]
    }
   ],
   "metadata": {}
  },
  {
   "cell_type": "code",
   "execution_count": 3,
   "source": [
    "df['qt2'] = df['qt1'] * 3       "
   ],
   "outputs": [],
   "metadata": {}
  },
  {
   "cell_type": "code",
   "execution_count": 4,
   "source": [
    "\r\n",
    "def div_qt3(num):\r\n",
    "    return num / 4\r\n",
    "\r\n",
    "df['qt3'] = df['qt2'].apply(div_qt3)\r\n"
   ],
   "outputs": [],
   "metadata": {}
  },
  {
   "cell_type": "code",
   "execution_count": 11,
   "source": [
    "df = pd.read_excel(r'C:\\Users\\cezar\\OneDrive\\Documentos\\Cadernos\\3-Pessoal\\00-SisAdm\\T5-Fechamento-ExportaçãoDados.xlsx', sheet_name='TBFATOSCONTABEIS')"
   ],
   "outputs": [],
   "metadata": {}
  },
  {
   "cell_type": "code",
   "execution_count": 5,
   "source": [
    "writer = pd.ExcelWriter('MeuNovoExcel.xlsx')\r\n",
    "df.to_excel(writer,'newsheet1')\r\n",
    "writer.save()   "
   ],
   "outputs": [],
   "metadata": {}
  },
  {
   "cell_type": "code",
   "execution_count": 12,
   "source": [
    "print(df.head())"
   ],
   "outputs": [
    {
     "output_type": "stream",
     "name": "stdout",
     "text": [
      "    ID TBPERIODO.Nome TBCONTAS.Nome TBBENEFICIARIOS.Nome  TBCATEGORIAS.Nome  \\\n",
      "0  382     2018-07-01    BANCO ITAÚ             GENERICO          Juros (-)   \n",
      "1  383     2018-07-01    BANCO ITAÚ       BANCO ITAÚ S/A     Seguro Pessoal   \n",
      "2  384     2018-07-01    BANCO ITAÚ             GENERICO  Tarifas Bancárias   \n",
      "3  385     2018-07-01    BANCO ITAÚ         CAFÉ MÁQUINA       Salário Fixo   \n",
      "4  386     2018-07-01    BANCO ITAÚ          CEZAR POETA       Salário Fixo   \n",
      "\n",
      "      DtFato     DtVenc   VlFato            Historico TBSITLANC.Nome  \n",
      "0 2018-07-02 2018-07-02    18.45            JUROS (-)           Pago  \n",
      "1 2018-06-30 2018-07-03    89.29       Seguro Pessoal           Pago  \n",
      "2 2018-07-03 2018-07-03    72.50    TARIFAS BANCARIAS           Pago  \n",
      "3 2018-07-06 2018-07-06  4376.58         Salário Fixo           Pago  \n",
      "4 2018-07-06 2018-07-06  5960.60  Salário Fixo-FÉRIAS           Pago  \n"
     ]
    }
   ],
   "metadata": {}
  }
 ],
 "metadata": {
  "orig_nbformat": 4,
  "language_info": {
   "name": "python",
   "version": "3.8.2",
   "mimetype": "text/x-python",
   "codemirror_mode": {
    "name": "ipython",
    "version": 3
   },
   "pygments_lexer": "ipython3",
   "nbconvert_exporter": "python",
   "file_extension": ".py"
  },
  "kernelspec": {
   "name": "python3",
   "display_name": "Python 3.8.2 32-bit"
  },
  "interpreter": {
   "hash": "93cb672a0ebc991e1d2c2c8197edef3c43024168dcd0c2e0c9ca8e77142833c8"
  }
 },
 "nbformat": 4,
 "nbformat_minor": 2
}